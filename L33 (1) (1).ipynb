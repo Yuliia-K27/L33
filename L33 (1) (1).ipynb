{
  "metadata": {
    "language_info": {
      "codemirror_mode": {
        "name": "python",
        "version": 3
      },
      "file_extension": ".py",
      "mimetype": "text/x-python",
      "name": "python",
      "nbconvert_exporter": "python",
      "pygments_lexer": "ipython3",
      "version": "3.8"
    },
    "kernelspec": {
      "name": "python",
      "display_name": "Python (Pyodide)",
      "language": "python"
    }
  },
  "nbformat_minor": 4,
  "nbformat": 4,
  "cells": [
    {
      "cell_type": "markdown",
      "source": "1. Створити xlsx-документ, що містить дані про марки автомобілів, їхню марку, споживання пального, максимальну швидкість та вантажопідйомність. Кількість записів у документів – 20.",
      "metadata": {}
    },
    {
      "cell_type": "code",
      "source": "import pandas as pd\nimport matplotlib.pyplot as plt\n\n\navto_brand = {\n    'Car_brand': ['Mercedes-Benz', 'Scania', 'Volvo', 'MAN', 'Renault', 'DAF', 'Iveco', 'Kenworth', 'Peterbilt', 'Freightliner', 'Mack', 'Western Star', 'Hino', 'Isuzu', 'Fuso', 'Tata', 'Ashok Leyland', 'Kamaz', 'Maz','Zil'],\n    'Car_model': ['Actros', '1848', 'LS', 'S730', 'FH16 750', 'TGX 41.680', 'T460', 'XF 530', 'S-WAY 570', 'T680', '389', 'Cascadia', 'Anthem', '5700XE', 'XL Series', 'NRR', 'Canter', 'Ultra', 'U 3118', '5490'], \n    'Cost': [155000, 180000, 170000, 160000, 140000, 150000, 160000, 180000, 190000, 200000, 180000, 185000, 110000, 75000, 50000, 30000, 35000, 90000, 65000, 50000],\n    'Fuel_consumption': [27, 32, 34, 36, 30, 32, 35, 30, 28, 29, 31, 33, 27, 24, 21, 19, 20, 36, 30, 25],\n\n    'Max_speed': [200, 210, 230, 290, 190, 220, 180, 200, 220, 260, 300, 220, 220, 250, 220, 290, 300, 270, 200, 250],\n    'Payload_capacity': [500, 400, 450, 770, 350, 430, 200, 500, 300, 450, 400, 250, 270, 280, 300, 200, 350, 330, 250, 250],\n}\n\ndf = pd.DataFrame(data=avto_brand, index=list(range(0, 20)))\nprint('Avto catalog:')\nprint(df)\n",
      "metadata": {
        "trusted": true
      },
      "execution_count": null,
      "outputs": []
    },
    {
      "cell_type": "code",
      "source": "# Save the dataframe to xlsx-file.\ndf.to_excel('C:/Users/flr.kya/Desktop/avto.xlsx', index=False)",
      "metadata": {
        "trusted": true
      },
      "execution_count": null,
      "outputs": []
    },
    {
      "cell_type": "markdown",
      "source": "2. Візуалізувати залежності: -споживання пального від вартості – лінійною діаграмою; -споживання пального від швидкості – точковим графіком; -вантажопідйомності від швидкості – точковим графіком.",
      "metadata": {}
    },
    {
      "cell_type": "code",
      "source": "df.plot.line(x = 'Fuel_consumption', y = 'Cost', color = 'red', linestyle = 'dot')\nplt.title('linear diagram')\nplt.show()",
      "metadata": {
        "trusted": true
      },
      "execution_count": null,
      "outputs": []
    },
    {
      "cell_type": "code",
      "source": "fig, ax = plt.subplots()\nsc = ax.scatter(df['Max_speed'], df['Fuel_consumption'], color='blue', marker='*')\nplt.colorbar(sc)\nax.set_xlabel('Max speed', fontsize=10)\nax.set_ylabel('Fuel consumption', fontsize=10)\nfig.suptitle('Scatter Plot 1')\nplt.show()",
      "metadata": {
        "trusted": true
      },
      "execution_count": null,
      "outputs": []
    },
    {
      "cell_type": "code",
      "source": "df.plot.scatter(x = 'carr_capac', y = 'max_speed', s = 'max_speed', c = 'red', marker='D')\nplt.title('Scatter Plot 2')\nplt.show()",
      "metadata": {
        "trusted": true
      },
      "execution_count": null,
      "outputs": []
    },
    {
      "cell_type": "markdown",
      "source": "3. Побудувати гістограму для розділення автомобілів на 5 груп за швидкістю.",
      "metadata": {}
    },
    {
      "cell_type": "code",
      "source": "plt.hist(df['max_speed'], color = 'blue', edgecolor = 'black', bins = 5)\nplt.title('Histogram Plot')\nplt.xlabel('Max speed')\nplt.ylabel('Measurement')\nplt.show()",
      "metadata": {
        "trusted": true
      },
      "execution_count": null,
      "outputs": []
    },
    {
      "cell_type": "markdown",
      "source": "4. Побудувати коробковий графік для відображення швидкостей різних марок.",
      "metadata": {}
    },
    {
      "cell_type": "code",
      "source": "import seaborn as sns\nimport matplotlib.pyplot as plt\n\n\nplt.title('Speed Box Plot 1')\nsns.boxplot(y=df['manufacturer'], x=df[ 'max_speed'])\nplt.show()",
      "metadata": {
        "trusted": true
      },
      "execution_count": null,
      "outputs": []
    },
    {
      "cell_type": "markdown",
      "source": "5. Побудувати парний графік для відображення залежностей величин.",
      "metadata": {}
    },
    {
      "cell_type": "code",
      "source": "plt.subplots()\nplt.suptitle('Pair Plot', size=18)\nsns.pairplot(df)\nplt.show()",
      "metadata": {
        "trusted": true
      },
      "execution_count": null,
      "outputs": []
    }
  ]
}