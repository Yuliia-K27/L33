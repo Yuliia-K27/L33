{
  "metadata": {
    "language_info": {
      "codemirror_mode": {
        "name": "python",
        "version": 3
      },
      "file_extension": ".py",
      "mimetype": "text/x-python",
      "name": "python",
      "nbconvert_exporter": "python",
      "pygments_lexer": "ipython3",
      "version": "3.8"
    },
    "kernelspec": {
      "name": "python",
      "display_name": "Python (Pyodide)",
      "language": "python"
    }
  },
  "nbformat_minor": 4,
  "nbformat": 4,
  "cells": [
    {
      "cell_type": "code",
      "source": "import pandas as pd\nimport matplotlib.pyplot as plt\n\n# Створення датафрейму\navto_brand = {\n    'Car_brand': ['Mercedes-Benz', 'Scania', 'Volvo', 'MAN', 'Renault', 'DAF', 'Iveco', 'Kenworth', 'Peterbilt', 'Freightliner', 'Mack', 'Western Star', 'Hino', 'Isuzu', 'Fuso', 'Tata', 'Ashok Leyland', 'Kamaz', 'Maz','Zil'],\n    'Car_model': ['Actros', '1848', 'LS', 'S730', 'FH16 750', 'TGX 41.680', 'T460', 'XF 530', 'S-WAY 570', 'T680', '389', 'Cascadia', 'Anthem', '5700XE', 'XL Series', 'NRR', 'Canter', 'Ultra', 'U 3118', '5490'], \n    'Cost': [155000, 180000, 170000, 160000, 140000, 150000, 160000, 180000, 190000, 200000, 180000, 185000, 110000, 75000, 50000, 30000, 35000, 90000, 65000, 50000],\n    'Fuel_consumption': [27, 32, 34, 36, 30, 32, 35, 30, 28, 29, 31, 33, 27, 24, 21, 19, 20, 36, 30, 25],\n\n    'Max_speed': [200, 210, 230, 290, 190, 220, 180, 200, 220, 260, 300, 220, 220, 250, 220, 290, 300, 270, 200, 250],\n    'Payload_capacity': [500, 400, 450, 770, 350, 430, 200, 500, 300, 450, 400, 250, 270, 280, 300, 200, 350, 330, 250, 250],\n}\n\n# Create the dataframe.\ndf = pd.DataFrame(data=avto_brand, index=list(range(0, 20)))\nprint('Avto catalog:')\nprint(df)\n",
      "metadata": {
        "trusted": true
      },
      "execution_count": 20,
      "outputs": [
        {
          "name": "stdout",
          "text": "Avto catalog:\n        Car_brand   Car_model    Cost  Fuel_consumption  Max_speed  \\\n0   Mercedes-Benz      Actros  155000                27        200   \n1          Scania        1848  180000                32        210   \n2           Volvo          LS  170000                34        230   \n3             MAN        S730  160000                36        290   \n4         Renault    FH16 750  140000                30        190   \n5             DAF  TGX 41.680  150000                32        220   \n6           Iveco        T460  160000                35        180   \n7        Kenworth      XF 530  180000                30        200   \n8       Peterbilt   S-WAY 570  190000                28        220   \n9    Freightliner        T680  200000                29        260   \n10           Mack         389  180000                31        300   \n11   Western Star    Cascadia  185000                33        220   \n12           Hino      Anthem  110000                27        220   \n13          Isuzu      5700XE   75000                24        250   \n14           Fuso   XL Series   50000                21        220   \n15           Tata         NRR   30000                19        290   \n16  Ashok Leyland      Canter   35000                20        300   \n17          Kamaz       Ultra   90000                36        270   \n18            Maz      U 3118   65000                30        200   \n19            Zil        5490   50000                25        250   \n\n    Payload_capacity  \n0                500  \n1                400  \n2                450  \n3                770  \n4                350  \n5                430  \n6                200  \n7                500  \n8                300  \n9                450  \n10               400  \n11               250  \n12               270  \n13               280  \n14               300  \n15               200  \n16               350  \n17               330  \n18               250  \n19               250  \n",
          "output_type": "stream"
        }
      ]
    },
    {
      "cell_type": "code",
      "source": "# Save the dataframe to xlsx-file.\ndf.to_excel('C:/Users/flr.kya/Desktop/avto.xlsx', index=False)",
      "metadata": {
        "trusted": true
      },
      "execution_count": null,
      "outputs": []
    },
    {
      "cell_type": "markdown",
      "source": "Завдання 2. Візуалізувати залежності:\n\nспоживання пального від вартості – лінійною діаграмою;\nспоживання пального від швидкості – точковим графіком;\nвантажопідйомності від швидкості – точковим графіком.",
      "metadata": {}
    },
    {
      "cell_type": "code",
      "source": "df.plot.line(x = 'Fuel_consumption', y = 'Cost', color = 'red', linestyle = 'dot')\nplt.title('linear diagram')\nplt.show()",
      "metadata": {
        "trusted": true
      },
      "execution_count": null,
      "outputs": []
    },
    {
      "cell_type": "code",
      "source": "fig, ax = plt.subplots()\nsc = ax.scatter(df['Max_speed'], df['Fuel_consumption'], color='blue', marker='*')\nplt.colorbar(sc)\nax.set_xlabel('Max_speed', fontsize=10)\nax.set_ylabel('Fuel_consumption', fontsize=10)\nfig.suptitle('Scatter Plot 1')\nplt.show()",
      "metadata": {},
      "execution_count": null,
      "outputs": []
    },
    {
      "cell_type": "code",
      "source": "df.plot.scatter(x = 'carr_capac', y = 'Max_speed', s = 'Max_speed', c = 'pink', marker='a')\nplt.title('Scatter Plot 2')\nplt.show()",
      "metadata": {
        "trusted": true
      },
      "execution_count": null,
      "outputs": []
    },
    {
      "cell_type": "markdown",
      "source": "Завдання 3. Побудувати гістограму для розділення автомобілів на 5 груп за швидкістю.",
      "metadata": {}
    },
    {
      "cell_type": "code",
      "source": "plt.hist(df['Max_speed'], color = 'red', edgecolor = 'black', bins = 5)\nplt.title('Histogram Plot')\nplt.xlabel('Max_speed')\nplt.ylabel('Measurement')\nplt.show()",
      "metadata": {},
      "execution_count": null,
      "outputs": []
    },
    {
      "cell_type": "markdown",
      "source": "Завдання 4. Побудувати коробковий графік для відображення швидкостей різних марок.",
      "metadata": {}
    },
    {
      "cell_type": "code",
      "source": "import seaborn as sns\nimport matplotlib.pyplot as plt\n\n\nplt.title('Speed Box Plot 1')\nsns.boxplot(y=df['manufacturer'], x=df[ 'Max_speed'])\nplt.show()",
      "metadata": {
        "trusted": true
      },
      "execution_count": null,
      "outputs": []
    },
    {
      "cell_type": "code",
      "source": "Завдання 5. Побудувати парний графік для відображення залежностей величин.",
      "metadata": {
        "trusted": true
      },
      "execution_count": null,
      "outputs": []
    },
    {
      "cell_type": "code",
      "source": "plt.subplots()\nplt.suptitle('Pair Plot', size=18)\nsns.pairplot(df)\nplt.show()",
      "metadata": {
        "trusted": true
      },
      "execution_count": null,
      "outputs": []
    }
  ]
}